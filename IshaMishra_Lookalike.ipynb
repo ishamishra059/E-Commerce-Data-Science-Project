{
 "cells": [
  {
   "cell_type": "code",
   "execution_count": 1,
   "id": "9468cc61-fdc5-4752-b443-5f3ee7201d36",
   "metadata": {},
   "outputs": [
    {
     "name": "stdout",
     "output_type": "stream",
     "text": [
      "Lookalike results saved to Lookalike_Customers.csv\n"
     ]
    }
   ],
   "source": [
    "import pandas as pd\n",
    "import numpy as np\n",
    "import csv\n",
    "from sklearn.metrics.pairwise import cosine_similarity\n",
    "\n",
    "transactions = pd.read_csv('transactions.csv')  \n",
    "products = pd.read_csv('products.csv')          \n",
    "customers = pd.read_csv('customers.csv')\n",
    "\n",
    "merged_data = transactions.merge(products, on='ProductID').merge(customers, on='CustomerID')\n",
    "pivot_table = merged_data.pivot_table(index='CustomerID', columns='ProductID', values='Quantity', fill_value=0)\n",
    "pivot_table = pivot_table.apply(lambda x: (x - x.min()) / (x.max() - x.min()) if x.max() != x.min() else x, axis=1)\n",
    "similarity_matrix = cosine_similarity(pivot_table)\n",
    "\n",
    "def get_top_3_lookalikes(customer_id, similarity_matrix, customer_ids):\n",
    "    idx = customer_ids.index(customer_id)\n",
    "    similar_customers = np.argsort(similarity_matrix[idx])[::-1]\n",
    "    top_customers = similar_customers[1:4]\n",
    "    return [(customer_ids[i], round(similarity_matrix[idx, i], 4)) for i in top_customers]\n",
    "\n",
    "customer_ids = pivot_table.index.tolist()\n",
    "lookalikes = {\n",
    "    cust: get_top_3_lookalikes(cust, similarity_matrix, customer_ids) for cust in customer_ids[:20]\n",
    "}\n",
    "\n",
    "file_name = \"Lookalike_Customers.csv\"\n",
    "with open(file_name, 'w', newline='') as file:\n",
    "    writer = csv.writer(file)\n",
    "    writer.writerow(['CustomerID', 'LookalikeCustomers'])\n",
    "    for key, value in lookalikes.items():\n",
    "        lookalikes_str = \"; \".join([f\"{v[0]} (similarity: {v[1]})\" for v in value])\n",
    "        writer.writerow([key, lookalikes_str])\n",
    "\n",
    "print(f\"Lookalike results saved to {file_name}\")"
   ]
  }
 ],
 "metadata": {
  "kernelspec": {
   "display_name": "Python 3 (ipykernel)",
   "language": "python",
   "name": "python3"
  },
  "language_info": {
   "codemirror_mode": {
    "name": "ipython",
    "version": 3
   },
   "file_extension": ".py",
   "mimetype": "text/x-python",
   "name": "python",
   "nbconvert_exporter": "python",
   "pygments_lexer": "ipython3",
   "version": "3.10.8"
  }
 },
 "nbformat": 4,
 "nbformat_minor": 5
}
